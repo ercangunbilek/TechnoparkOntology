{
 "cells": [
  {
   "cell_type": "markdown",
   "metadata": {},
   "source": [
    "# Proje Motivasyonu ve Seçim Nedeni\n",
    "Türkiye'de sektör farketmeksizin herhangi bir meslekte maaş ile alakalı bilgi edinmek oldukça zor.Bu yüzden bu konuda insanların fikir elde edebileceği bir model geliştirmek istedik."
   ]
  },
  {
   "cell_type": "markdown",
   "metadata": {},
   "source": [
    "# Projenin amaçları (problem tanımı):\n",
    "Cevaplamaya çalıştığımız başlıca soru kişinin maaş aralığı.Kişinin kazancına yönelik bilgi sahibi ve bu bilgi doğrultusunda kariyer planlaması yapılabilir."
   ]
  },
  {
   "cell_type": "markdown",
   "metadata": {},
   "source": [
    "# Veri:\n",
    "Verileri 2019 yılında bir twitter hesabı üzerinden yapılan anket ile elde ettik.\n",
    "https://github.com/oncekiyazilimci/2019-yazilimci-maaslari"
   ]
  },
  {
   "cell_type": "markdown",
   "metadata": {},
   "source": [
    "# Veri işleme:\n",
    "Tüm kolonları tarayarak yazım hatası,null değer,yanlış bilgi gibi durumları tespit ederek veriyi model için daha uygun hale getirdik"
   ]
  },
  {
   "cell_type": "code",
   "execution_count": 1,
   "metadata": {},
   "outputs": [],
   "source": [
    "import numpy as np\n",
    "import pandas as pd\n",
    "import matplotlib.pyplot as plt\n",
    "%matplotlib inline"
   ]
  },
  {
   "cell_type": "code",
   "execution_count": 2,
   "metadata": {},
   "outputs": [],
   "source": [
    "cities=['Adana', 'Adıyaman', 'Afyon', 'Ağrı', 'Amasya', 'Ankara', 'Antalya', 'Artvin',\n",
    "'Aydın', 'Balıkesir', 'Bilecik', 'Bingöl', 'Bitlis', 'Bolu', 'Burdur', 'Bursa', 'Çanakkale',\n",
    "'Çankırı', 'Çorum', 'Denizli', 'Diyarbakır', 'Edirne', 'Elazığ', 'Erzincan', 'Erzurum', 'Eskişehir',\n",
    "'Gaziantep', 'Giresun', 'Gümüşhane', 'Hakkari', 'Hatay', 'Isparta', 'Mersin', 'İstanbul', 'İzmir', \n",
    "'Kars', 'Kastamonu', 'Kayseri', 'Kırklareli', 'Kırşehir', 'Kocaeli', 'Konya', 'Kütahya', 'Malatya', \n",
    "'Manisa', 'Kahramanmaraş', 'Mardin', 'Muğla', 'Muş', 'Nevşehir', 'Niğde', 'Ordu', 'Rize', 'Sakarya',\n",
    "'Samsun', 'Siirt', 'Sinop', 'Sivas', 'Tekirdağ', 'Tokat', 'Trabzon', 'Tunceli', 'Şanlıurfa', 'Uşak',\n",
    "'Van', 'Yozgat', 'Zonguldak', 'Aksaray', 'Bayburt', 'Karaman', 'Kırıkkale', 'Batman', 'Şırnak',\n",
    "'Bartın', 'Ardahan', 'Iğdır', 'Yalova', 'Karabük', 'Kilis', 'Osmaniye', 'Düzce']\n",
    "\n",
    "companies=[\"Bilişim\",\"Danışmanlık\",\"Dijital / Reklam Ajansı\",\"E-Ticaret\",\"Endüstriyel Otomasyon\",\"Gaming\",\"Freelance\",\n",
    "           \"Kurumsal\",\"Kamu\",\"Outsource\",\"Startup\",\"Telekom\"]"
   ]
  },
  {
   "cell_type": "code",
   "execution_count": 3,
   "metadata": {},
   "outputs": [
    {
     "data": {
      "text/html": [
       "<div>\n",
       "<style scoped>\n",
       "    .dataframe tbody tr th:only-of-type {\n",
       "        vertical-align: middle;\n",
       "    }\n",
       "\n",
       "    .dataframe tbody tr th {\n",
       "        vertical-align: top;\n",
       "    }\n",
       "\n",
       "    .dataframe thead th {\n",
       "        text-align: right;\n",
       "    }\n",
       "</style>\n",
       "<table border=\"1\" class=\"dataframe\">\n",
       "  <thead>\n",
       "    <tr style=\"text-align: right;\">\n",
       "      <th></th>\n",
       "      <th>level</th>\n",
       "      <th>position</th>\n",
       "      <th>skills</th>\n",
       "      <th>experience</th>\n",
       "      <th>company</th>\n",
       "      <th>employees</th>\n",
       "      <th>city</th>\n",
       "      <th>salary</th>\n",
       "    </tr>\n",
       "  </thead>\n",
       "  <tbody>\n",
       "    <tr>\n",
       "      <th>1105</th>\n",
       "      <td>Middle</td>\n",
       "      <td>Full Stack Developer</td>\n",
       "      <td>.Net;Php;JavaScript | Html | Css</td>\n",
       "      <td>0 - 1 Yıl</td>\n",
       "      <td>Startup</td>\n",
       "      <td>10 - 25 Kişi</td>\n",
       "      <td>İstanbul</td>\n",
       "      <td>3.000 TL - 4.000 TL</td>\n",
       "    </tr>\n",
       "    <tr>\n",
       "      <th>1106</th>\n",
       "      <td>Middle</td>\n",
       "      <td>Mobile Application Developer</td>\n",
       "      <td>Java;.Net;Php;Python</td>\n",
       "      <td>10 yıldan daha fazla</td>\n",
       "      <td>E-Ticaret</td>\n",
       "      <td>1 - 10 Kişi</td>\n",
       "      <td>yok</td>\n",
       "      <td>15.000 TL veya daha fazla</td>\n",
       "    </tr>\n",
       "    <tr>\n",
       "      <th>1107</th>\n",
       "      <td>Senior</td>\n",
       "      <td>Software Architect</td>\n",
       "      <td>.Net;JavaScript | Html | Css</td>\n",
       "      <td>7 - 10 Yıl</td>\n",
       "      <td>Kurumsal</td>\n",
       "      <td>100+ Kişi</td>\n",
       "      <td>İstanbul</td>\n",
       "      <td>10.000 TL - 11.000 TL</td>\n",
       "    </tr>\n",
       "    <tr>\n",
       "      <th>1108</th>\n",
       "      <td>Senior</td>\n",
       "      <td>Full Stack Developer</td>\n",
       "      <td>.Net;JavaScript | Html | Css</td>\n",
       "      <td>3 - 5 Yıl</td>\n",
       "      <td>Kurumsal</td>\n",
       "      <td>50 - 100 Kişi</td>\n",
       "      <td>İstanbul</td>\n",
       "      <td>4.000 TL - 5.000 TL</td>\n",
       "    </tr>\n",
       "    <tr>\n",
       "      <th>1109</th>\n",
       "      <td>Senior</td>\n",
       "      <td>Back-end Developer</td>\n",
       "      <td>Java</td>\n",
       "      <td>3 - 5 Yıl</td>\n",
       "      <td>E-Ticaret</td>\n",
       "      <td>100+ Kişi</td>\n",
       "      <td>İstanbul</td>\n",
       "      <td>6.000 TL - 7.000 TL</td>\n",
       "    </tr>\n",
       "  </tbody>\n",
       "</table>\n",
       "</div>"
      ],
      "text/plain": [
       "       level                      position                            skills  \\\n",
       "1105  Middle          Full Stack Developer  .Net;Php;JavaScript | Html | Css   \n",
       "1106  Middle  Mobile Application Developer              Java;.Net;Php;Python   \n",
       "1107  Senior            Software Architect      .Net;JavaScript | Html | Css   \n",
       "1108  Senior          Full Stack Developer      .Net;JavaScript | Html | Css   \n",
       "1109  Senior            Back-end Developer                              Java   \n",
       "\n",
       "                experience    company      employees      city  \\\n",
       "1105             0 - 1 Yıl    Startup   10 - 25 Kişi  İstanbul   \n",
       "1106  10 yıldan daha fazla  E-Ticaret    1 - 10 Kişi       yok   \n",
       "1107            7 - 10 Yıl   Kurumsal      100+ Kişi  İstanbul   \n",
       "1108             3 - 5 Yıl   Kurumsal  50 - 100 Kişi  İstanbul   \n",
       "1109             3 - 5 Yıl  E-Ticaret      100+ Kişi  İstanbul   \n",
       "\n",
       "                         salary  \n",
       "1105        3.000 TL - 4.000 TL  \n",
       "1106  15.000 TL veya daha fazla  \n",
       "1107      10.000 TL - 11.000 TL  \n",
       "1108        4.000 TL - 5.000 TL  \n",
       "1109        6.000 TL - 7.000 TL  "
      ]
     },
     "execution_count": 3,
     "metadata": {},
     "output_type": "execute_result"
    }
   ],
   "source": [
    "salary_dataset=pd.read_excel('yazilimci-maaslari-anketi-2019.xlsx')\n",
    "salary_dataset.tail()"
   ]
  },
  {
   "cell_type": "code",
   "execution_count": 4,
   "metadata": {},
   "outputs": [],
   "source": [
    "#kolon analizi->kolona göre gruplayarak verisetindeki değerleri gözden geçirdik\n",
    "#a=salary_dataset.groupby(by=\"company\").size()\n",
    "#a"
   ]
  },
  {
   "cell_type": "code",
   "execution_count": 5,
   "metadata": {},
   "outputs": [],
   "source": [
    "def get_clean_columnvalues(x,clean_array):  \n",
    "    for i in range(len(clean_array)):      \n",
    "        if x.strip().lower()==clean_array[i].lower():\n",
    "            return clean_array[i]\n",
    "    return np.NaN"
   ]
  },
  {
   "cell_type": "code",
   "execution_count": 6,
   "metadata": {},
   "outputs": [],
   "source": [
    "salary_dataset[\"city\"]=salary_dataset[\"city\"].map(lambda x:get_clean_columnvalues(x,cities))"
   ]
  },
  {
   "cell_type": "code",
   "execution_count": 7,
   "metadata": {},
   "outputs": [],
   "source": [
    "salary_dataset[\"company\"]=salary_dataset[\"company\"].map(lambda x:get_clean_columnvalues(x,companies))"
   ]
  },
  {
   "cell_type": "code",
   "execution_count": 8,
   "metadata": {},
   "outputs": [],
   "source": [
    "salary_dataset.dropna(axis=0,how=\"any\",inplace=True)"
   ]
  },
  {
   "cell_type": "markdown",
   "metadata": {},
   "source": [
    "# Null kontrolü"
   ]
  },
  {
   "cell_type": "code",
   "execution_count": 9,
   "metadata": {},
   "outputs": [
    {
     "data": {
      "text/plain": [
       "level         0\n",
       "position      0\n",
       "skills        0\n",
       "experience    0\n",
       "company       0\n",
       "employees     0\n",
       "city          0\n",
       "salary        0\n",
       "dtype: int64"
      ]
     },
     "execution_count": 9,
     "metadata": {},
     "output_type": "execute_result"
    }
   ],
   "source": [
    "salary_dataset.isnull().sum()"
   ]
  },
  {
   "cell_type": "code",
   "execution_count": 10,
   "metadata": {},
   "outputs": [
    {
     "data": {
      "text/plain": [
       "level         1045\n",
       "position      1045\n",
       "skills        1045\n",
       "experience    1045\n",
       "company       1045\n",
       "employees     1045\n",
       "city          1045\n",
       "salary        1045\n",
       "dtype: int64"
      ]
     },
     "execution_count": 10,
     "metadata": {},
     "output_type": "execute_result"
    }
   ],
   "source": [
    "salary_dataset.count()"
   ]
  },
  {
   "cell_type": "markdown",
   "metadata": {},
   "source": [
    "# Keşif Analizi\n"
   ]
  },
  {
   "cell_type": "code",
   "execution_count": 11,
   "metadata": {},
   "outputs": [
    {
     "data": {
      "text/plain": [
       "<matplotlib.axes._subplots.AxesSubplot at 0x1f9be286470>"
      ]
     },
     "execution_count": 11,
     "metadata": {},
     "output_type": "execute_result"
    },
    {
     "data": {
      "image/png": "[encoded data removed]",
      "text/plain": [
       "<Figure size 432x288 with 1 Axes>"
      ]
     },
     "metadata": {},
     "output_type": "display_data"
    }
   ],
   "source": [
    "#Developerların çalıştıkları şehirlerin pasta grafiği(İlk 5 şehir)\n",
    "top_5_city=pd.Series(salary_dataset.groupby(by=\"city\").size().sort_values(ascending=False).head(5))\n",
    "explode = (0.1,0, 0, 0,0)\n",
    "top_5_city.plot.pie(explode=explode,labels=top_5_city.index,autopct='%1.1f%%')"
   ]
  },
  {
   "cell_type": "code",
   "execution_count": 12,
   "metadata": {},
   "outputs": [
    {
     "data": {
      "text/plain": [
       "<matplotlib.axes._subplots.AxesSubplot at 0x1f9be5d1390>"
      ]
     },
     "execution_count": 12,
     "metadata": {},
     "output_type": "execute_result"
    },
    {
     "data": {
      "image/png": "[encoded data removed]",
      "text/plain": [
       "<Figure size 432x288 with 1 Axes>"
      ]
     },
     "metadata": {
      "needs_background": "light"
     },
     "output_type": "display_data"
    }
   ],
   "source": [
    "#Developerların çalıştıkları şehirlerin pasta grafiği(Diğer şehirler)\n",
    "other_city=pd.Series(salary_dataset.groupby(by=\"city\").size().sort_values(ascending=False))\n",
    "other_city=other_city.drop(top_5_city.index)\n",
    "other_city[other_city!=0]\n",
    "other_city.plot.bar()"
   ]
  },
  {
   "cell_type": "code",
   "execution_count": 13,
   "metadata": {},
   "outputs": [
    {
     "data": {
      "text/plain": [
       "<matplotlib.axes._subplots.AxesSubplot at 0x1f9be252668>"
      ]
     },
     "execution_count": 13,
     "metadata": {},
     "output_type": "execute_result"
    },
    {
     "data": {
      "image/png": "[encoded data removed]",
      "text/plain": [
       "<Figure size 432x288 with 1 Axes>"
      ]
     },
     "metadata": {
      "needs_background": "light"
     },
     "output_type": "display_data"
    }
   ],
   "source": [
    "#Developerların kişi bazında şirket dağılımları\n",
    "company_type=pd.Series(salary_dataset.groupby(by=\"company\").size())\n",
    "company_type.plot.bar()"
   ]
  },
  {
   "cell_type": "code",
   "execution_count": 14,
   "metadata": {},
   "outputs": [
    {
     "data": {
      "text/plain": [
       "<matplotlib.axes._subplots.AxesSubplot at 0x1f9be667e80>"
      ]
     },
     "execution_count": 14,
     "metadata": {},
     "output_type": "execute_result"
    },
    {
     "data": {
      "image/png": "[encoded data removed]",
      "text/plain": [
       "<Figure size 432x288 with 1 Axes>"
      ]
     },
     "metadata": {},
     "output_type": "display_data"
    }
   ],
   "source": [
    "#Developerların çalıştıkları pozisyonlar(Top 5)\n",
    "top_5_position=pd.Series(salary_dataset.groupby(by=\"position\").size().sort_values(ascending=False)).head(5)\n",
    "explode = (0.1,0, 0, 0,0)\n",
    "top_5_position.plot(kind=\"pie\",explode=explode,autopct='%.2f')"
   ]
  },
  {
   "cell_type": "code",
   "execution_count": 15,
   "metadata": {},
   "outputs": [
    {
     "name": "stdout",
     "output_type": "stream",
     "text": [
      "Full Stack Developer: .Net;JavaScript | Html | Css \n",
      "Back-end Developer: .Net \n",
      "Mobile Application Developer Swift / Objective C \n",
      "Front-end Developer JavaScript | Html | Css \n",
      "Team Lead .Net;JavaScript | Html | Css\n"
     ]
    }
   ],
   "source": [
    "position_tech=salary_dataset.groupby(['position','skills']).size().sort_values(ascending=False)\n",
    "print(\"Full Stack Developer:\",position_tech['Full Stack Developer'].idxmax(),\n",
    "      \"\\nBack-end Developer:\",position_tech['Back-end Developer'].idxmax(),\n",
    "      \"\\nMobile Application Developer\",position_tech['Mobile Application Developer'].idxmax(),\n",
    "      \"\\nFront-end Developer\",position_tech['Front-end Developer'].idxmax(),\n",
    "      \"\\nTeam Lead\",position_tech['Team Lead'].idxmax())"
   ]
  },
  {
   "cell_type": "code",
   "execution_count": 16,
   "metadata": {},
   "outputs": [
    {
     "data": {
      "text/plain": [
       "<matplotlib.axes._subplots.AxesSubplot at 0x1f9be6bfe80>"
      ]
     },
     "execution_count": 16,
     "metadata": {},
     "output_type": "execute_result"
    },
    {
     "data": {
      "image/png": "[encoded data removed]",
      "text/plain": [
       "<Figure size 432x288 with 1 Axes>"
      ]
     },
     "metadata": {
      "needs_background": "light"
     },
     "output_type": "display_data"
    }
   ],
   "source": [
    "#Developerların çalıştıkları pozisyonların çubuk grafiği(Diğer pozisyonlar)\n",
    "other_position=pd.Series(salary_dataset.groupby(by=\"position\").size().sort_values(ascending=False))\n",
    "other_position=other_position.drop(top_5_position.index)\n",
    "other_position[other_position!=0]\n",
    "other_position.plot.bar()"
   ]
  },
  {
   "cell_type": "code",
   "execution_count": 17,
   "metadata": {},
   "outputs": [],
   "source": [
    "salary_degree_list={'2.020 TL - 3.000 TL':0,\n",
    "                    '3.000 TL - 4.000 TL':1,\n",
    "                    '4.000 TL - 5.000 TL':2,\n",
    "                    '5.000 TL - 6.000 TL':3,\n",
    "                    '6.000 TL - 7.000 TL':4,                    \n",
    "                    '7.000 TL - 8.000 TL':5,\n",
    "                    '8.000 TL - 9.000 TL':6,\n",
    "                    '9.000 TL - 10.000 TL':7,\n",
    "                    '10.000 TL - 11.000 TL':8,\n",
    "                    '11.000 TL - 12.000 TL':9,\n",
    "                    '12.000 TL - 13.000 TL':10,\n",
    "                    '13.000 TL - 14.000 TL':11,\n",
    "                    '14.000 TL - 15.000 TL':12,\n",
    "                    '15.000 TL veya daha fazla':13}    "
   ]
  },
  {
   "cell_type": "code",
   "execution_count": 18,
   "metadata": {
    "scrolled": true
   },
   "outputs": [],
   "source": [
    "salary_dataset['salary_degree']=salary_dataset['salary'].map(salary_degree_list)"
   ]
  },
  {
   "cell_type": "code",
   "execution_count": 19,
   "metadata": {},
   "outputs": [
    {
     "data": {
      "text/plain": [
       "<matplotlib.axes._subplots.AxesSubplot at 0x1f9be27f6a0>"
      ]
     },
     "execution_count": 19,
     "metadata": {},
     "output_type": "execute_result"
    },
    {
     "data": {
      "image/png": "[encoded data removed]",
      "text/plain": [
       "<Figure size 432x288 with 1 Axes>"
      ]
     },
     "metadata": {
      "needs_background": "light"
     },
     "output_type": "display_data"
    }
   ],
   "source": [
    "#Developerların tecrübeye göre dağılımı\n",
    "experience=pd.Series(salary_dataset.groupby(by=\"experience\").size().sort_values(ascending=False))\n",
    "experience.plot.bar()"
   ]
  },
  {
   "cell_type": "code",
   "execution_count": 20,
   "metadata": {},
   "outputs": [
    {
     "data": {
      "text/plain": [
       "<matplotlib.axes._subplots.AxesSubplot at 0x1f9be7c42e8>"
      ]
     },
     "execution_count": 20,
     "metadata": {},
     "output_type": "execute_result"
    },
    {
     "data": {
      "image/png": "[encoded data removed]",
      "text/plain": [
       "<Figure size 432x288 with 1 Axes>"
      ]
     },
     "metadata": {
      "needs_background": "light"
     },
     "output_type": "display_data"
    }
   ],
   "source": [
    "#Developer maaş dağılımı\n",
    "salary=pd.Series(salary_dataset.groupby(by=\"salary\").size().sort_values(ascending=False))\n",
    "salary.plot.bar()"
   ]
  },
  {
   "cell_type": "code",
   "execution_count": 21,
   "metadata": {},
   "outputs": [],
   "source": [
    "#Developerların şehirler bazında aldıkları genel maaş aralıkları\n",
    "cities_salaries=salary_dataset[['city','salary_degree']]\n",
    "cities_salaries=cities_salaries.groupby('city').mean()\n",
    "selected_cities=[\"İstanbul\",\"Ankara\",\"İzmir\"]\n",
    "cities_salaries=cities_salaries['salary_degree'].sort_values(ascending=False)\n",
    "salary_scala=cities_salaries[selected_cities].astype(int).values"
   ]
  },
  {
   "cell_type": "code",
   "execution_count": 22,
   "metadata": {},
   "outputs": [
    {
     "name": "stdout",
     "output_type": "stream",
     "text": [
      "İstanbul ortalama maaş aralığı ['6.000 TL - 7.000 TL']\n"
     ]
    }
   ],
   "source": [
    "#İstanbul\n",
    "city_avg_scala_salary=salary_dataset[(salary_dataset['city'].isin(selected_cities))]\n",
    "print(\"İstanbul ortalama maaş aralığı\",\n",
    "      city_avg_scala_salary[city_avg_scala_salary['salary_degree']==salary_scala[0]]['salary'].head(1).values)"
   ]
  },
  {
   "cell_type": "code",
   "execution_count": 23,
   "metadata": {},
   "outputs": [
    {
     "name": "stdout",
     "output_type": "stream",
     "text": [
      "Ankara ortalama maaş aralığı ['5.000 TL - 6.000 TL']\n"
     ]
    }
   ],
   "source": [
    "#Ankara\n",
    "city_avg_scala_salary=salary_dataset[(salary_dataset['city'].isin(selected_cities))]\n",
    "print(\"Ankara ortalama maaş aralığı\",\n",
    "      city_avg_scala_salary[city_avg_scala_salary['salary_degree']==salary_scala[1]]['salary'].head(1).values)"
   ]
  },
  {
   "cell_type": "code",
   "execution_count": 24,
   "metadata": {},
   "outputs": [
    {
     "name": "stdout",
     "output_type": "stream",
     "text": [
      "İzmir ortalama maaş aralığı ['4.000 TL - 5.000 TL']\n"
     ]
    }
   ],
   "source": [
    "#İzmir\n",
    "city_avg_scala_salary=salary_dataset[(salary_dataset['city'].isin(selected_cities))]\n",
    "print(\"İzmir ortalama maaş aralığı\",\n",
    "      city_avg_scala_salary[city_avg_scala_salary['salary_degree']==salary_scala[2]]['salary'].head(1).values)"
   ]
  },
  {
   "cell_type": "markdown",
   "metadata": {},
   "source": [
    "# Level ve Position kolonlarına göre maaş - kişi analizi"
   ]
  },
  {
   "cell_type": "markdown",
   "metadata": {},
   "source": [
    "# Junior Full Stack Developer\n",
    "Junior Full Stack Developer pozisyonunda çalışanların maaş incelemesi"
   ]
  },
  {
   "cell_type": "code",
   "execution_count": 25,
   "metadata": {},
   "outputs": [],
   "source": [
    "#Level ve position a göre developer dağılımları\n",
    "developer_position_count=salary_dataset.groupby(['position','level']).size()"
   ]
  },
  {
   "cell_type": "code",
   "execution_count": 26,
   "metadata": {},
   "outputs": [
    {
     "name": "stdout",
     "output_type": "stream",
     "text": [
      "Junior Full Stack Developer Count: 98\n"
     ]
    }
   ],
   "source": [
    "print(\"Junior Full Stack Developer Count:\",developer_position_count['Full Stack Developer','Junior'])"
   ]
  },
  {
   "cell_type": "code",
   "execution_count": 27,
   "metadata": {},
   "outputs": [
    {
     "data": {
      "text/plain": [
       "salary\n",
       "2.020 TL - 3.000 TL          43\n",
       "3.000 TL - 4.000 TL          24\n",
       "5.000 TL - 6.000 TL          12\n",
       "4.000 TL - 5.000 TL          12\n",
       "6.000 TL - 7.000 TL           3\n",
       "15.000 TL veya daha fazla     3\n",
       "8.000 TL - 9.000 TL           1\n",
       "dtype: int64"
      ]
     },
     "execution_count": 27,
     "metadata": {},
     "output_type": "execute_result"
    }
   ],
   "source": [
    "#Junior Full Stack Developer\n",
    "junior_full_stack_developer=salary_dataset[(salary_dataset['level']=='Junior') & \n",
    "                                           (salary_dataset['position']=='Full Stack Developer')]\n",
    "junior_full_stack_developer.groupby('salary').size().sort_values(ascending=False)\n",
    "#junior_full_stack_developer.groupby('salary').size().plot.bar()\n",
    "#junior_full_stack_developer.groupby('salary').size().plot.pie(autopct='%.2f')"
   ]
  },
  {
   "cell_type": "markdown",
   "metadata": {},
   "source": [
    "# Middle Full Stack Developer\n",
    "Middle Full Stack Developer pozisyonunda çalışanların maaş incelemesi"
   ]
  },
  {
   "cell_type": "code",
   "execution_count": 28,
   "metadata": {},
   "outputs": [
    {
     "name": "stdout",
     "output_type": "stream",
     "text": [
      "Middle Full Stack Developer Count: 150\n"
     ]
    }
   ],
   "source": [
    "print(\"Middle Full Stack Developer Count:\",developer_position_count['Full Stack Developer','Middle'])"
   ]
  },
  {
   "cell_type": "code",
   "execution_count": 29,
   "metadata": {},
   "outputs": [
    {
     "data": {
      "text/plain": [
       "salary\n",
       "4.000 TL - 5.000 TL      36\n",
       "5.000 TL - 6.000 TL      30\n",
       "3.000 TL - 4.000 TL      19\n",
       "6.000 TL - 7.000 TL      18\n",
       "2.020 TL - 3.000 TL      18\n",
       "7.000 TL - 8.000 TL      17\n",
       "8.000 TL - 9.000 TL       9\n",
       "9.000 TL - 10.000 TL      1\n",
       "12.000 TL - 13.000 TL     1\n",
       "10.000 TL - 11.000 TL     1\n",
       "dtype: int64"
      ]
     },
     "execution_count": 29,
     "metadata": {},
     "output_type": "execute_result"
    }
   ],
   "source": [
    "#Middle Full Stack Developer\n",
    "middle_full_stack_developer=salary_dataset[(salary_dataset['level']=='Middle') & \n",
    "                                           (salary_dataset['position']=='Full Stack Developer')]\n",
    "middle_full_stack_developer.groupby('salary').size().sort_values(ascending=False)\n",
    "#middle_full_stack_developer.groupby('salary').size().plot.bar()\n",
    "#middle_full_stack_developer.groupby('salary').size().plot.pie(autopct='%.2f')"
   ]
  },
  {
   "cell_type": "markdown",
   "metadata": {},
   "source": [
    "# Senior Full Stack Developer\n",
    "Senior Full Stack Developer pozisyonunda çalışanların maaş incelemesi"
   ]
  },
  {
   "cell_type": "code",
   "execution_count": 30,
   "metadata": {},
   "outputs": [
    {
     "name": "stdout",
     "output_type": "stream",
     "text": [
      "Senior Full Stack Developer Count: 149\n"
     ]
    }
   ],
   "source": [
    "print(\"Senior Full Stack Developer Count:\",developer_position_count['Full Stack Developer','Senior'])"
   ]
  },
  {
   "cell_type": "code",
   "execution_count": 31,
   "metadata": {},
   "outputs": [
    {
     "data": {
      "text/plain": [
       "salary\n",
       "8.000 TL - 9.000 TL          22\n",
       "7.000 TL - 8.000 TL          22\n",
       "6.000 TL - 7.000 TL          20\n",
       "5.000 TL - 6.000 TL          18\n",
       "9.000 TL - 10.000 TL         11\n",
       "10.000 TL - 11.000 TL        11\n",
       "3.000 TL - 4.000 TL           9\n",
       "4.000 TL - 5.000 TL           7\n",
       "15.000 TL veya daha fazla     7\n",
       "13.000 TL - 14.000 TL         7\n",
       "12.000 TL - 13.000 TL         7\n",
       "11.000 TL - 12.000 TL         6\n",
       "2.020 TL - 3.000 TL           2\n",
       "dtype: int64"
      ]
     },
     "execution_count": 31,
     "metadata": {},
     "output_type": "execute_result"
    }
   ],
   "source": [
    "#Senior Full Stack Developer\n",
    "senior_full_stack_developer=salary_dataset[(salary_dataset['level']=='Senior') & \n",
    "                                           (salary_dataset['position']=='Full Stack Developer')]\n",
    "senior_full_stack_developer.groupby('salary').size().sort_values(ascending=False)\n",
    "#senior_full_stack_developer.groupby('salary').size().plot.bar()\n",
    "#senior_full_stack_developer.groupby('salary').size().plot.pie(autopct='%.2f')"
   ]
  },
  {
   "cell_type": "markdown",
   "metadata": {},
   "source": [
    "# Junior Back-End Developer\n",
    "Junior Back-End Developer pozisyonunda çalışanların maaş incelemesi"
   ]
  },
  {
   "cell_type": "code",
   "execution_count": 32,
   "metadata": {},
   "outputs": [
    {
     "name": "stdout",
     "output_type": "stream",
     "text": [
      "Junior Back-End Developer Count: 77\n"
     ]
    }
   ],
   "source": [
    "print(\"Junior Back-End Developer Count:\",developer_position_count['Back-end Developer','Junior'])"
   ]
  },
  {
   "cell_type": "code",
   "execution_count": 33,
   "metadata": {},
   "outputs": [
    {
     "data": {
      "text/plain": [
       "salary\n",
       "2.020 TL - 3.000 TL          35\n",
       "3.000 TL - 4.000 TL          18\n",
       "4.000 TL - 5.000 TL          15\n",
       "5.000 TL - 6.000 TL           4\n",
       "8.000 TL - 9.000 TL           2\n",
       "6.000 TL - 7.000 TL           2\n",
       "15.000 TL veya daha fazla     1\n",
       "dtype: int64"
      ]
     },
     "execution_count": 33,
     "metadata": {},
     "output_type": "execute_result"
    }
   ],
   "source": [
    "#Junior Back-End Developer\n",
    "junior_back_end_developer=salary_dataset[(salary_dataset['level']=='Junior') & \n",
    "                                           (salary_dataset['position']=='Back-end Developer')]\n",
    "junior_back_end_developer.groupby('salary').size().sort_values(ascending=False)\n",
    "#junior_back_end_developer.groupby('salary').size().plot.bar()\n",
    "#junior_back_end_developer.groupby('salary').size().plot.pie(autopct='%.2f')"
   ]
  },
  {
   "cell_type": "markdown",
   "metadata": {},
   "source": [
    "# Middle Back-End Developer\n",
    "Middle Back-End Developer pozisyonunda çalışanların maaş incelemesi"
   ]
  },
  {
   "cell_type": "code",
   "execution_count": 34,
   "metadata": {
    "scrolled": true
   },
   "outputs": [
    {
     "name": "stdout",
     "output_type": "stream",
     "text": [
      "Middle Back-End Developer Count: 87\n"
     ]
    }
   ],
   "source": [
    "print(\"Middle Back-End Developer Count:\",developer_position_count['Back-end Developer','Middle'])"
   ]
  },
  {
   "cell_type": "code",
   "execution_count": 35,
   "metadata": {},
   "outputs": [
    {
     "data": {
      "text/plain": [
       "salary\n",
       "5.000 TL - 6.000 TL      17\n",
       "4.000 TL - 5.000 TL      15\n",
       "7.000 TL - 8.000 TL      14\n",
       "6.000 TL - 7.000 TL      14\n",
       "3.000 TL - 4.000 TL      12\n",
       "2.020 TL - 3.000 TL       6\n",
       "8.000 TL - 9.000 TL       4\n",
       "9.000 TL - 10.000 TL      3\n",
       "10.000 TL - 11.000 TL     2\n",
       "dtype: int64"
      ]
     },
     "execution_count": 35,
     "metadata": {},
     "output_type": "execute_result"
    }
   ],
   "source": [
    "#Middle Back-End Developer\n",
    "middle_back_end_developer=salary_dataset[(salary_dataset['level']=='Middle') & \n",
    "                                           (salary_dataset['position']=='Back-end Developer')]\n",
    "middle_back_end_developer.groupby('salary').size().sort_values(ascending=False)\n",
    "#middle_back_end_developer.groupby('salary').size().plot.bar()\n",
    "#middle_back_end_developer.groupby('salary').size().plot.pie(autopct='%.2f')"
   ]
  },
  {
   "cell_type": "markdown",
   "metadata": {},
   "source": [
    "# Senior Back-End Developer\n",
    "Senior Back-End Developer pozisyonunda çalışanların maaş incelemesi"
   ]
  },
  {
   "cell_type": "code",
   "execution_count": 36,
   "metadata": {},
   "outputs": [
    {
     "name": "stdout",
     "output_type": "stream",
     "text": [
      "Senior Back-End Developer Count: 100\n"
     ]
    }
   ],
   "source": [
    "print(\"Senior Back-End Developer Count:\",developer_position_count['Back-end Developer','Senior'])"
   ]
  },
  {
   "cell_type": "code",
   "execution_count": 37,
   "metadata": {},
   "outputs": [
    {
     "data": {
      "text/plain": [
       "salary\n",
       "6.000 TL - 7.000 TL          16\n",
       "9.000 TL - 10.000 TL         15\n",
       "7.000 TL - 8.000 TL          12\n",
       "10.000 TL - 11.000 TL        12\n",
       "8.000 TL - 9.000 TL          11\n",
       "5.000 TL - 6.000 TL          10\n",
       "15.000 TL veya daha fazla     5\n",
       "13.000 TL - 14.000 TL         5\n",
       "12.000 TL - 13.000 TL         4\n",
       "11.000 TL - 12.000 TL         4\n",
       "3.000 TL - 4.000 TL           3\n",
       "4.000 TL - 5.000 TL           2\n",
       "2.020 TL - 3.000 TL           1\n",
       "dtype: int64"
      ]
     },
     "execution_count": 37,
     "metadata": {},
     "output_type": "execute_result"
    }
   ],
   "source": [
    "#Senior Back-End Developer\n",
    "senior_back_end_developer=salary_dataset[(salary_dataset['level']=='Senior') & \n",
    "                                           (salary_dataset['position']=='Back-end Developer')]\n",
    "senior_back_end_developer.groupby('salary').size().sort_values(ascending=False)\n",
    "#senior_back_end_developer.groupby('salary').size().plot.bar()\n",
    "#senior_back_end_developer.groupby('salary').size().plot.pie(autopct='%.2f')"
   ]
  },
  {
   "cell_type": "markdown",
   "metadata": {},
   "source": [
    "# Junior Front-End Developer\n",
    "Junior Front-End Developer pozisyonunda çalışanların maaş incelemesi"
   ]
  },
  {
   "cell_type": "code",
   "execution_count": 38,
   "metadata": {
    "scrolled": true
   },
   "outputs": [
    {
     "name": "stdout",
     "output_type": "stream",
     "text": [
      "Junior Front-End Developer Count: 47\n"
     ]
    }
   ],
   "source": [
    "print(\"Junior Front-End Developer Count:\",developer_position_count['Front-end Developer','Junior'])"
   ]
  },
  {
   "cell_type": "code",
   "execution_count": 39,
   "metadata": {
    "scrolled": true
   },
   "outputs": [
    {
     "data": {
      "text/plain": [
       "salary\n",
       "2.020 TL - 3.000 TL          26\n",
       "3.000 TL - 4.000 TL           8\n",
       "4.000 TL - 5.000 TL           6\n",
       "5.000 TL - 6.000 TL           4\n",
       "8.000 TL - 9.000 TL           1\n",
       "6.000 TL - 7.000 TL           1\n",
       "15.000 TL veya daha fazla     1\n",
       "dtype: int64"
      ]
     },
     "execution_count": 39,
     "metadata": {},
     "output_type": "execute_result"
    }
   ],
   "source": [
    "#Junior Front-End Developer\n",
    "junior_front_end_developer=salary_dataset[(salary_dataset['level']=='Junior') & \n",
    "                                           (salary_dataset['position']=='Front-end Developer')]\n",
    "junior_front_end_developer.groupby('salary').size().sort_values(ascending=False)\n",
    "#junior_front_end_developer.groupby('salary').size().plot.bar()\n",
    "#junior_front_end_developer.groupby('salary').size().plot.pie(autopct='%.2f')"
   ]
  },
  {
   "cell_type": "markdown",
   "metadata": {},
   "source": [
    "# Middle Front-End Developer\n",
    "Middle Front-End Developer pozisyonunda çalışanların maaş incelemesi"
   ]
  },
  {
   "cell_type": "code",
   "execution_count": 40,
   "metadata": {},
   "outputs": [
    {
     "name": "stdout",
     "output_type": "stream",
     "text": [
      "Middle Front-End Developer Count: 45\n"
     ]
    }
   ],
   "source": [
    "print(\"Middle Front-End Developer Count:\",developer_position_count['Front-end Developer','Middle'])"
   ]
  },
  {
   "cell_type": "code",
   "execution_count": 41,
   "metadata": {},
   "outputs": [
    {
     "data": {
      "text/plain": [
       "salary\n",
       "4.000 TL - 5.000 TL    12\n",
       "6.000 TL - 7.000 TL    11\n",
       "3.000 TL - 4.000 TL     8\n",
       "5.000 TL - 6.000 TL     5\n",
       "2.020 TL - 3.000 TL     5\n",
       "8.000 TL - 9.000 TL     2\n",
       "7.000 TL - 8.000 TL     2\n",
       "dtype: int64"
      ]
     },
     "execution_count": 41,
     "metadata": {},
     "output_type": "execute_result"
    }
   ],
   "source": [
    "#Middle Front-End Developer\n",
    "middle_front_end_developer=salary_dataset[(salary_dataset['level']=='Middle') & \n",
    "                                           (salary_dataset['position']=='Front-end Developer')]\n",
    "middle_front_end_developer.groupby('salary').size().sort_values(ascending=False)\n",
    "#middle_front_end_developer.groupby('salary').size().plot.bar()\n",
    "#middle_front_end_developer.groupby('salary').size().plot.pie(autopct='%.2f')"
   ]
  },
  {
   "cell_type": "markdown",
   "metadata": {},
   "source": [
    "# Senior Front-End Developer\n",
    "Senior Front-End Developer pozisyonunda çalışanların maaş incelemesi"
   ]
  },
  {
   "cell_type": "code",
   "execution_count": 42,
   "metadata": {},
   "outputs": [
    {
     "name": "stdout",
     "output_type": "stream",
     "text": [
      "Senior Front-End Developer Count: 25\n"
     ]
    }
   ],
   "source": [
    "print(\"Senior Front-End Developer Count:\",developer_position_count['Front-end Developer','Senior'])"
   ]
  },
  {
   "cell_type": "code",
   "execution_count": 43,
   "metadata": {},
   "outputs": [
    {
     "data": {
      "text/plain": [
       "salary\n",
       "9.000 TL - 10.000 TL         6\n",
       "6.000 TL - 7.000 TL          6\n",
       "7.000 TL - 8.000 TL          4\n",
       "2.020 TL - 3.000 TL          3\n",
       "5.000 TL - 6.000 TL          2\n",
       "10.000 TL - 11.000 TL        2\n",
       "4.000 TL - 5.000 TL          1\n",
       "15.000 TL veya daha fazla    1\n",
       "dtype: int64"
      ]
     },
     "execution_count": 43,
     "metadata": {},
     "output_type": "execute_result"
    }
   ],
   "source": [
    "#Senior Front-End Developer\n",
    "senior_front_end_developer=salary_dataset[(salary_dataset['level']=='Senior') & \n",
    "                                           (salary_dataset['position']=='Front-end Developer')]\n",
    "senior_front_end_developer.groupby('salary').size().sort_values(ascending=False)\n",
    "#senior_front_end_developer.groupby('salary').size().plot.bar()\n",
    "#senior_front_end_developer.groupby('salary').size().plot.pie(autopct='%.2f')"
   ]
  },
  {
   "cell_type": "markdown",
   "metadata": {},
   "source": [
    "# Junior Mobile Application Developer\n",
    "Junior Mobile Application Developer pozisyonunda çalışanların maaş incelemesi"
   ]
  },
  {
   "cell_type": "code",
   "execution_count": 44,
   "metadata": {},
   "outputs": [
    {
     "name": "stdout",
     "output_type": "stream",
     "text": [
      "Junior Mobile Application Developer Count: 32\n"
     ]
    }
   ],
   "source": [
    "print(\"Junior Mobile Application Developer Count:\",developer_position_count['Mobile Application Developer','Junior'])"
   ]
  },
  {
   "cell_type": "code",
   "execution_count": 45,
   "metadata": {},
   "outputs": [
    {
     "data": {
      "text/plain": [
       "salary\n",
       "2.020 TL - 3.000 TL    13\n",
       "4.000 TL - 5.000 TL    11\n",
       "3.000 TL - 4.000 TL     8\n",
       "dtype: int64"
      ]
     },
     "execution_count": 45,
     "metadata": {},
     "output_type": "execute_result"
    }
   ],
   "source": [
    "#Junior Mobile Application Developer\n",
    "junior_mobile_application_developer=salary_dataset[(salary_dataset['level']=='Junior') & \n",
    "                                           (salary_dataset['position']=='Mobile Application Developer')]\n",
    "junior_mobile_application_developer.groupby('salary').size().sort_values(ascending=False)\n",
    "#junior_mobile_application_developer.groupby('salary').size().plot.bar()\n",
    "#junior_mobile_application_developer.groupby('salary').size().plot.pie(autopct='%.2f')"
   ]
  },
  {
   "cell_type": "markdown",
   "metadata": {},
   "source": [
    "# Middle Mobile Application Developer\n",
    "Middle Mobile Application Developer pozisyonunda çalışanların maaş incelemesi"
   ]
  },
  {
   "cell_type": "code",
   "execution_count": 46,
   "metadata": {},
   "outputs": [
    {
     "name": "stdout",
     "output_type": "stream",
     "text": [
      "Middle Mobile Application Developer Count: 45\n"
     ]
    }
   ],
   "source": [
    "print(\"Middle Mobile Application Developer Count:\",developer_position_count['Mobile Application Developer','Middle'])"
   ]
  },
  {
   "cell_type": "code",
   "execution_count": 47,
   "metadata": {},
   "outputs": [
    {
     "data": {
      "text/plain": [
       "salary\n",
       "5.000 TL - 6.000 TL      13\n",
       "6.000 TL - 7.000 TL       9\n",
       "7.000 TL - 8.000 TL       5\n",
       "4.000 TL - 5.000 TL       5\n",
       "3.000 TL - 4.000 TL       5\n",
       "2.020 TL - 3.000 TL       3\n",
       "10.000 TL - 11.000 TL     2\n",
       "9.000 TL - 10.000 TL      1\n",
       "8.000 TL - 9.000 TL       1\n",
       "12.000 TL - 13.000 TL     1\n",
       "dtype: int64"
      ]
     },
     "execution_count": 47,
     "metadata": {},
     "output_type": "execute_result"
    }
   ],
   "source": [
    "#Middle Mobile Application Developer\n",
    "middle_mobile_application_developer=salary_dataset[(salary_dataset['level']=='Middle') & \n",
    "                                           (salary_dataset['position']=='Mobile Application Developer')]\n",
    "middle_mobile_application_developer.groupby('salary').size().sort_values(ascending=False)\n",
    "#middle_mobile_application_developer.groupby('salary').size().plot.bar()\n",
    "#middle_mobile_application_developer.groupby('salary').size().plot.pie(autopct='%.2f')"
   ]
  },
  {
   "cell_type": "markdown",
   "metadata": {},
   "source": [
    "# Senior Mobile Application Developer\n",
    "Senior Mobile Application Developer pozisyonunda çalışanların maaş incelemesi"
   ]
  },
  {
   "cell_type": "code",
   "execution_count": 48,
   "metadata": {},
   "outputs": [
    {
     "name": "stdout",
     "output_type": "stream",
     "text": [
      "Senior Mobile Application Developer Count: 23\n"
     ]
    }
   ],
   "source": [
    "print(\"Senior Mobile Application Developer Count:\",developer_position_count['Mobile Application Developer','Senior'])"
   ]
  },
  {
   "cell_type": "code",
   "execution_count": 49,
   "metadata": {},
   "outputs": [
    {
     "data": {
      "text/plain": [
       "salary\n",
       "8.000 TL - 9.000 TL          6\n",
       "7.000 TL - 8.000 TL          3\n",
       "4.000 TL - 5.000 TL          3\n",
       "6.000 TL - 7.000 TL          2\n",
       "13.000 TL - 14.000 TL        2\n",
       "10.000 TL - 11.000 TL        2\n",
       "9.000 TL - 10.000 TL         1\n",
       "5.000 TL - 6.000 TL          1\n",
       "2.020 TL - 3.000 TL          1\n",
       "15.000 TL veya daha fazla    1\n",
       "12.000 TL - 13.000 TL        1\n",
       "dtype: int64"
      ]
     },
     "execution_count": 49,
     "metadata": {},
     "output_type": "execute_result"
    }
   ],
   "source": [
    "#Senior Mobile Application Developer\n",
    "senior_mobile_application_developer=salary_dataset[(salary_dataset['level']=='Senior') & \n",
    "                                           (salary_dataset['position']=='Mobile Application Developer')]\n",
    "senior_mobile_application_developer.groupby('salary').size().sort_values(ascending=False)\n",
    "#senior_mobile_application_developer.groupby('salary').size().plot.bar()\n",
    "#senior_mobile_application_developer.groupby('salary').size().plot.pie(autopct='%.2f')"
   ]
  },
  {
   "cell_type": "markdown",
   "metadata": {},
   "source": [
    "# Team Lead\n",
    "Team Lead pozisyonunda çalışanların maaş incelemesi"
   ]
  },
  {
   "cell_type": "code",
   "execution_count": 50,
   "metadata": {},
   "outputs": [
    {
     "name": "stdout",
     "output_type": "stream",
     "text": [
      "Team Lead Count: 75\n"
     ]
    }
   ],
   "source": [
    "print(\"Team Lead Count:\",developer_position_count['Team Lead'].sum())"
   ]
  },
  {
   "cell_type": "code",
   "execution_count": 51,
   "metadata": {},
   "outputs": [
    {
     "data": {
      "text/plain": [
       "salary\n",
       "8.000 TL - 9.000 TL          12\n",
       "9.000 TL - 10.000 TL         11\n",
       "7.000 TL - 8.000 TL           9\n",
       "15.000 TL veya daha fazla     8\n",
       "13.000 TL - 14.000 TL         7\n",
       "12.000 TL - 13.000 TL         6\n",
       "11.000 TL - 12.000 TL         6\n",
       "10.000 TL - 11.000 TL         6\n",
       "6.000 TL - 7.000 TL           5\n",
       "4.000 TL - 5.000 TL           2\n",
       "3.000 TL - 4.000 TL           2\n",
       "5.000 TL - 6.000 TL           1\n",
       "dtype: int64"
      ]
     },
     "execution_count": 51,
     "metadata": {},
     "output_type": "execute_result"
    }
   ],
   "source": [
    "#Team Lead\n",
    "team_lead=salary_dataset[salary_dataset['position']=='Team Lead']\n",
    "team_lead.groupby('salary').size().sort_values(ascending=False)\n",
    "#team_lead.groupby('salary').size().plot.bar()\n",
    "#team_lead.groupby('salary').size().plot.pie(autopct='%.2f')"
   ]
  },
  {
   "cell_type": "markdown",
   "metadata": {},
   "source": [
    "# Software Architect\n",
    "Software Architect pozisyonunda çalışanların maaş incelemesi"
   ]
  },
  {
   "cell_type": "code",
   "execution_count": 52,
   "metadata": {},
   "outputs": [
    {
     "name": "stdout",
     "output_type": "stream",
     "text": [
      "Software Architect Count: 43\n"
     ]
    }
   ],
   "source": [
    "print(\"Software Architect Count:\",developer_position_count['Software Architect'].sum())"
   ]
  },
  {
   "cell_type": "code",
   "execution_count": 53,
   "metadata": {},
   "outputs": [
    {
     "data": {
      "text/plain": [
       "salary\n",
       "15.000 TL veya daha fazla    10\n",
       "13.000 TL - 14.000 TL         6\n",
       "9.000 TL - 10.000 TL          3\n",
       "7.000 TL - 8.000 TL           3\n",
       "4.000 TL - 5.000 TL           3\n",
       "3.000 TL - 4.000 TL           3\n",
       "2.020 TL - 3.000 TL           3\n",
       "12.000 TL - 13.000 TL         3\n",
       "10.000 TL - 11.000 TL         3\n",
       "8.000 TL - 9.000 TL           2\n",
       "5.000 TL - 6.000 TL           2\n",
       "6.000 TL - 7.000 TL           1\n",
       "11.000 TL - 12.000 TL         1\n",
       "dtype: int64"
      ]
     },
     "execution_count": 53,
     "metadata": {},
     "output_type": "execute_result"
    }
   ],
   "source": [
    "#Software Architect\n",
    "software_architect=salary_dataset[salary_dataset['position']=='Software Architect']\n",
    "software_architect.groupby('salary').size().sort_values(ascending=False)\n",
    "#software_architect.groupby('salary').size().plot.bar()\n",
    "#software_architect.groupby('salary').size().plot.pie(autopct='%.2f')"
   ]
  },
  {
   "cell_type": "markdown",
   "metadata": {},
   "source": [
    "# DEVOPS Engineer\n",
    "DEVOPS Engineer pozisyonunda çalışanların maaş incelemesi"
   ]
  },
  {
   "cell_type": "code",
   "execution_count": 54,
   "metadata": {},
   "outputs": [
    {
     "name": "stdout",
     "output_type": "stream",
     "text": [
      "DEVOPS Engineer Count: 19\n"
     ]
    }
   ],
   "source": [
    "print(\"DEVOPS Engineer Count:\",developer_position_count['DevOps Engineer'].sum())"
   ]
  },
  {
   "cell_type": "code",
   "execution_count": 55,
   "metadata": {},
   "outputs": [
    {
     "data": {
      "text/plain": [
       "<matplotlib.axes._subplots.AxesSubplot at 0x1f9bf86c630>"
      ]
     },
     "execution_count": 55,
     "metadata": {},
     "output_type": "execute_result"
    },
    {
     "data": {
      "image/png": "[encoded data removed]",
      "text/plain": [
       "<Figure size 432x288 with 1 Axes>"
      ]
     },
     "metadata": {},
     "output_type": "display_data"
    }
   ],
   "source": [
    "#DEVOPS Engineer\n",
    "devops_engineer=salary_dataset[salary_dataset['position']=='DevOps Engineer']\n",
    "devops_engineer.groupby('salary').size().sort_values(ascending=False)\n",
    "#devops_engineer.groupby('salary').size().plot.bar()\n",
    "devops_engineer.groupby('salary').size().plot.pie(autopct='%.2f')"
   ]
  },
  {
   "cell_type": "markdown",
   "metadata": {},
   "source": [
    "# Analiz metodolojisi:\n"
   ]
  },
  {
   "cell_type": "markdown",
   "metadata": {},
   "source": [
    "# ENCODING"
   ]
  },
  {
   "cell_type": "code",
   "execution_count": 56,
   "metadata": {},
   "outputs": [],
   "source": [
    "del salary_dataset[\"salary_degree\"]"
   ]
  },
  {
   "cell_type": "code",
   "execution_count": 57,
   "metadata": {},
   "outputs": [],
   "source": [
    "from sklearn.preprocessing import LabelEncoder\n",
    "from sklearn.model_selection import train_test_split"
   ]
  },
  {
   "cell_type": "code",
   "execution_count": 58,
   "metadata": {},
   "outputs": [],
   "source": [
    "tech = ['C / C++','.Net','Sql','Java','Swift / Objective C','Cf','JavaScript | Html | Css','Flutter','Xml','perl','React-native',\n",
    "       'Golang','Delphi','abap','Scala','Assembly','React','Sql server','Php','PL/SQL','oracle','Go','Kotlin','Cobol','Coldfusion',\n",
    "       'Laravel','sql','.Net Core, C#','Ruby','X++','Node.js','Python','Angular','C#','Typescript','Vb.net','Elixir']\n",
    "\n"
   ]
  },
  {
   "cell_type": "code",
   "execution_count": 59,
   "metadata": {},
   "outputs": [
    {
     "data": {
      "text/html": [
       "<div>\n",
       "<style scoped>\n",
       "    .dataframe tbody tr th:only-of-type {\n",
       "        vertical-align: middle;\n",
       "    }\n",
       "\n",
       "    .dataframe tbody tr th {\n",
       "        vertical-align: top;\n",
       "    }\n",
       "\n",
       "    .dataframe thead th {\n",
       "        text-align: right;\n",
       "    }\n",
       "</style>\n",
       "<table border=\"1\" class=\"dataframe\">\n",
       "  <thead>\n",
       "    <tr style=\"text-align: right;\">\n",
       "      <th></th>\n",
       "      <th>level</th>\n",
       "      <th>position</th>\n",
       "      <th>skills</th>\n",
       "      <th>experience</th>\n",
       "      <th>company</th>\n",
       "      <th>employees</th>\n",
       "      <th>city</th>\n",
       "      <th>salary</th>\n",
       "    </tr>\n",
       "  </thead>\n",
       "  <tbody>\n",
       "    <tr>\n",
       "      <th>0</th>\n",
       "      <td>Junior</td>\n",
       "      <td>Back-end Developer</td>\n",
       "      <td>Java</td>\n",
       "      <td>1 - 3 Yıl</td>\n",
       "      <td>Startup</td>\n",
       "      <td>1 - 10 Kişi</td>\n",
       "      <td>İstanbul</td>\n",
       "      <td>2.020 TL - 3.000 TL</td>\n",
       "    </tr>\n",
       "    <tr>\n",
       "      <th>1</th>\n",
       "      <td>Senior</td>\n",
       "      <td>DevOps Engineer</td>\n",
       "      <td>Java;Go</td>\n",
       "      <td>3 - 5 Yıl</td>\n",
       "      <td>Startup</td>\n",
       "      <td>100+ Kişi</td>\n",
       "      <td>Ankara</td>\n",
       "      <td>15.000 TL veya daha fazla</td>\n",
       "    </tr>\n",
       "    <tr>\n",
       "      <th>2</th>\n",
       "      <td>Middle</td>\n",
       "      <td>Full Stack Developer</td>\n",
       "      <td>.Net</td>\n",
       "      <td>3 - 5 Yıl</td>\n",
       "      <td>Outsource</td>\n",
       "      <td>100+ Kişi</td>\n",
       "      <td>İstanbul</td>\n",
       "      <td>7.000 TL - 8.000 TL</td>\n",
       "    </tr>\n",
       "    <tr>\n",
       "      <th>3</th>\n",
       "      <td>Senior</td>\n",
       "      <td>Team Lead</td>\n",
       "      <td>.Net</td>\n",
       "      <td>10 yıldan daha fazla</td>\n",
       "      <td>Kurumsal</td>\n",
       "      <td>100+ Kişi</td>\n",
       "      <td>İstanbul</td>\n",
       "      <td>13.000 TL - 14.000 TL</td>\n",
       "    </tr>\n",
       "    <tr>\n",
       "      <th>4</th>\n",
       "      <td>Junior</td>\n",
       "      <td>Back-end Developer</td>\n",
       "      <td>.Net;JavaScript | Html | Css</td>\n",
       "      <td>0 - 1 Yıl</td>\n",
       "      <td>Outsource</td>\n",
       "      <td>1 - 10 Kişi</td>\n",
       "      <td>İstanbul</td>\n",
       "      <td>3.000 TL - 4.000 TL</td>\n",
       "    </tr>\n",
       "  </tbody>\n",
       "</table>\n",
       "</div>"
      ],
      "text/plain": [
       "    level              position                        skills  \\\n",
       "0  Junior    Back-end Developer                          Java   \n",
       "1  Senior       DevOps Engineer                       Java;Go   \n",
       "2  Middle  Full Stack Developer                          .Net   \n",
       "3  Senior             Team Lead                          .Net   \n",
       "4  Junior    Back-end Developer  .Net;JavaScript | Html | Css   \n",
       "\n",
       "             experience    company    employees      city  \\\n",
       "0             1 - 3 Yıl    Startup  1 - 10 Kişi  İstanbul   \n",
       "1             3 - 5 Yıl    Startup    100+ Kişi    Ankara   \n",
       "2             3 - 5 Yıl  Outsource    100+ Kişi  İstanbul   \n",
       "3  10 yıldan daha fazla   Kurumsal    100+ Kişi  İstanbul   \n",
       "4             0 - 1 Yıl  Outsource  1 - 10 Kişi  İstanbul   \n",
       "\n",
       "                      salary  \n",
       "0        2.020 TL - 3.000 TL  \n",
       "1  15.000 TL veya daha fazla  \n",
       "2        7.000 TL - 8.000 TL  \n",
       "3      13.000 TL - 14.000 TL  \n",
       "4        3.000 TL - 4.000 TL  "
      ]
     },
     "execution_count": 59,
     "metadata": {},
     "output_type": "execute_result"
    }
   ],
   "source": [
    "salary_dataset.head()"
   ]
  },
  {
   "cell_type": "code",
   "execution_count": 60,
   "metadata": {},
   "outputs": [],
   "source": [
    "lower_tech = [x.lower() for x in tech]\n",
    "salary_dataset = salary_dataset.applymap(str.lower)"
   ]
  },
  {
   "cell_type": "code",
   "execution_count": 61,
   "metadata": {},
   "outputs": [],
   "source": [
    "def encodeTechByOneHot(x,skill_item):\n",
    "        if x.find(skill_item) == -1:\n",
    "            return 0\n",
    "        else:\n",
    "            return 1"
   ]
  },
  {
   "cell_type": "code",
   "execution_count": 62,
   "metadata": {},
   "outputs": [],
   "source": [
    "salary_list={'2.020 tl - 3.000 tl' : 0,\n",
    "                    '3.000 tl - 4.000 tl': 0,\n",
    "                    '4.000 tl - 5.000 tl': 0,\n",
    "                    '5.000 tl - 6.000 tl': 0,\n",
    "                    '6.000 tl - 7.000 tl': 0,                    \n",
    "                    '7.000 tl - 8.000 tl': 1,\n",
    "                    '8.000 tl - 9.000 tl': 1,\n",
    "                    '9.000 tl - 10.000 tl': 1,\n",
    "                    '10.000 tl - 11.000 tl': 1,\n",
    "                    '11.000 tl - 12.000 tl': 1,\n",
    "                    '12.000 tl - 13.000 tl': 2,\n",
    "                    '13.000 tl - 14.000 tl': 2,\n",
    "                    '14.000 tl - 15.000 tl': 2,\n",
    "                    '15.000 tl veya daha fazla': 2\n",
    "            }   "
   ]
  },
  {
   "cell_type": "code",
   "execution_count": 63,
   "metadata": {},
   "outputs": [],
   "source": [
    "\n",
    "le = LabelEncoder()\n",
    "salary_dataset[\"level\"] = le.fit_transform(salary_dataset[\"level\"])\n",
    "salary_dataset[\"experience\"] = le.fit_transform(salary_dataset[\"experience\"])\n",
    "salary_dataset[\"salary\"] = salary_dataset[\"salary\"].map(salary_list)\n",
    "\n",
    "salary_dataset[\"company\"] = le.fit_transform(salary_dataset[\"company\"])\n",
    "salary_dataset[\"position\"] = le.fit_transform(salary_dataset[\"position\"])\n",
    "salary_dataset[\"city\"] = le.fit_transform(salary_dataset[\"city\"])\n",
    "salary_dataset[\"employees\"] = le.fit_transform(salary_dataset[\"employees\"])\n",
    "\n",
    "for skill_item in lower_tech:\n",
    "    salary_dataset[skill_item] = salary_dataset[\"skills\"].apply(lambda x:encodeTechByOneHot(x,skill_item))\n",
    "    \n"
   ]
  },
  {
   "cell_type": "code",
   "execution_count": 64,
   "metadata": {},
   "outputs": [],
   "source": [
    "del salary_dataset[\"skills\"]"
   ]
  },
  {
   "cell_type": "code",
   "execution_count": 65,
   "metadata": {
    "scrolled": true
   },
   "outputs": [
    {
     "data": {
      "text/html": [
       "<div>\n",
       "<style scoped>\n",
       "    .dataframe tbody tr th:only-of-type {\n",
       "        vertical-align: middle;\n",
       "    }\n",
       "\n",
       "    .dataframe tbody tr th {\n",
       "        vertical-align: top;\n",
       "    }\n",
       "\n",
       "    .dataframe thead th {\n",
       "        text-align: right;\n",
       "    }\n",
       "</style>\n",
       "<table border=\"1\" class=\"dataframe\">\n",
       "  <thead>\n",
       "    <tr style=\"text-align: right;\">\n",
       "      <th></th>\n",
       "      <th>level</th>\n",
       "      <th>position</th>\n",
       "      <th>experience</th>\n",
       "      <th>company</th>\n",
       "      <th>employees</th>\n",
       "      <th>city</th>\n",
       "      <th>salary</th>\n",
       "      <th>c / c++</th>\n",
       "      <th>.net</th>\n",
       "      <th>sql</th>\n",
       "      <th>...</th>\n",
       "      <th>.net core, c#</th>\n",
       "      <th>ruby</th>\n",
       "      <th>x++</th>\n",
       "      <th>node.js</th>\n",
       "      <th>python</th>\n",
       "      <th>angular</th>\n",
       "      <th>c#</th>\n",
       "      <th>typescript</th>\n",
       "      <th>vb.net</th>\n",
       "      <th>elixir</th>\n",
       "    </tr>\n",
       "  </thead>\n",
       "  <tbody>\n",
       "    <tr>\n",
       "      <th>0</th>\n",
       "      <td>0</td>\n",
       "      <td>0</td>\n",
       "      <td>1</td>\n",
       "      <td>10</td>\n",
       "      <td>0</td>\n",
       "      <td>15</td>\n",
       "      <td>0</td>\n",
       "      <td>0</td>\n",
       "      <td>0</td>\n",
       "      <td>0</td>\n",
       "      <td>...</td>\n",
       "      <td>0</td>\n",
       "      <td>0</td>\n",
       "      <td>0</td>\n",
       "      <td>0</td>\n",
       "      <td>0</td>\n",
       "      <td>0</td>\n",
       "      <td>0</td>\n",
       "      <td>0</td>\n",
       "      <td>0</td>\n",
       "      <td>0</td>\n",
       "    </tr>\n",
       "    <tr>\n",
       "      <th>1</th>\n",
       "      <td>2</td>\n",
       "      <td>10</td>\n",
       "      <td>3</td>\n",
       "      <td>10</td>\n",
       "      <td>2</td>\n",
       "      <td>2</td>\n",
       "      <td>2</td>\n",
       "      <td>0</td>\n",
       "      <td>0</td>\n",
       "      <td>0</td>\n",
       "      <td>...</td>\n",
       "      <td>0</td>\n",
       "      <td>0</td>\n",
       "      <td>0</td>\n",
       "      <td>0</td>\n",
       "      <td>0</td>\n",
       "      <td>0</td>\n",
       "      <td>0</td>\n",
       "      <td>0</td>\n",
       "      <td>0</td>\n",
       "      <td>0</td>\n",
       "    </tr>\n",
       "    <tr>\n",
       "      <th>2</th>\n",
       "      <td>1</td>\n",
       "      <td>13</td>\n",
       "      <td>3</td>\n",
       "      <td>9</td>\n",
       "      <td>2</td>\n",
       "      <td>15</td>\n",
       "      <td>1</td>\n",
       "      <td>0</td>\n",
       "      <td>1</td>\n",
       "      <td>0</td>\n",
       "      <td>...</td>\n",
       "      <td>0</td>\n",
       "      <td>0</td>\n",
       "      <td>0</td>\n",
       "      <td>0</td>\n",
       "      <td>0</td>\n",
       "      <td>0</td>\n",
       "      <td>0</td>\n",
       "      <td>0</td>\n",
       "      <td>0</td>\n",
       "      <td>0</td>\n",
       "    </tr>\n",
       "    <tr>\n",
       "      <th>3</th>\n",
       "      <td>2</td>\n",
       "      <td>21</td>\n",
       "      <td>2</td>\n",
       "      <td>8</td>\n",
       "      <td>2</td>\n",
       "      <td>15</td>\n",
       "      <td>2</td>\n",
       "      <td>0</td>\n",
       "      <td>1</td>\n",
       "      <td>0</td>\n",
       "      <td>...</td>\n",
       "      <td>0</td>\n",
       "      <td>0</td>\n",
       "      <td>0</td>\n",
       "      <td>0</td>\n",
       "      <td>0</td>\n",
       "      <td>0</td>\n",
       "      <td>0</td>\n",
       "      <td>0</td>\n",
       "      <td>0</td>\n",
       "      <td>0</td>\n",
       "    </tr>\n",
       "    <tr>\n",
       "      <th>4</th>\n",
       "      <td>0</td>\n",
       "      <td>0</td>\n",
       "      <td>0</td>\n",
       "      <td>9</td>\n",
       "      <td>0</td>\n",
       "      <td>15</td>\n",
       "      <td>0</td>\n",
       "      <td>0</td>\n",
       "      <td>1</td>\n",
       "      <td>0</td>\n",
       "      <td>...</td>\n",
       "      <td>0</td>\n",
       "      <td>0</td>\n",
       "      <td>0</td>\n",
       "      <td>0</td>\n",
       "      <td>0</td>\n",
       "      <td>0</td>\n",
       "      <td>0</td>\n",
       "      <td>0</td>\n",
       "      <td>0</td>\n",
       "      <td>0</td>\n",
       "    </tr>\n",
       "  </tbody>\n",
       "</table>\n",
       "<p>5 rows × 43 columns</p>\n",
       "</div>"
      ],
      "text/plain": [
       "   level  position  experience  company  employees  city  salary  c / c++  \\\n",
       "0      0         0           1       10          0    15       0        0   \n",
       "1      2        10           3       10          2     2       2        0   \n",
       "2      1        13           3        9          2    15       1        0   \n",
       "3      2        21           2        8          2    15       2        0   \n",
       "4      0         0           0        9          0    15       0        0   \n",
       "\n",
       "   .net  sql   ...    .net core, c#  ruby  x++  node.js  python  angular  c#  \\\n",
       "0     0    0   ...                0     0    0        0       0        0   0   \n",
       "1     0    0   ...                0     0    0        0       0        0   0   \n",
       "2     1    0   ...                0     0    0        0       0        0   0   \n",
       "3     1    0   ...                0     0    0        0       0        0   0   \n",
       "4     1    0   ...                0     0    0        0       0        0   0   \n",
       "\n",
       "   typescript  vb.net  elixir  \n",
       "0           0       0       0  \n",
       "1           0       0       0  \n",
       "2           0       0       0  \n",
       "3           0       0       0  \n",
       "4           0       0       0  \n",
       "\n",
       "[5 rows x 43 columns]"
      ]
     },
     "execution_count": 65,
     "metadata": {},
     "output_type": "execute_result"
    }
   ],
   "source": [
    "salary_dataset.head()"
   ]
  },
  {
   "cell_type": "code",
   "execution_count": 66,
   "metadata": {},
   "outputs": [
    {
     "data": {
      "text/plain": [
       "Index(['level', 'position', 'experience', 'company', 'employees', 'city',\n",
       "       'salary', 'c / c++', '.net', 'sql', 'java', 'swift / objective c', 'cf',\n",
       "       'javascript | html | css', 'flutter', 'xml', 'perl', 'react-native',\n",
       "       'golang', 'delphi', 'abap', 'scala', 'assembly', 'react', 'sql server',\n",
       "       'php', 'pl/sql', 'oracle', 'go', 'kotlin', 'cobol', 'coldfusion',\n",
       "       'laravel', '.net core, c#', 'ruby', 'x++', 'node.js', 'python',\n",
       "       'angular', 'c#', 'typescript', 'vb.net', 'elixir'],\n",
       "      dtype='object')"
      ]
     },
     "execution_count": 66,
     "metadata": {},
     "output_type": "execute_result"
    }
   ],
   "source": [
    "salary_dataset.columns\n"
   ]
  },
  {
   "cell_type": "code",
   "execution_count": 67,
   "metadata": {},
   "outputs": [
    {
     "data": {
      "text/plain": [
       "<matplotlib.axes._subplots.AxesSubplot at 0x1f9c0c01f60>"
      ]
     },
     "execution_count": 67,
     "metadata": {},
     "output_type": "execute_result"
    },
    {
     "data": {
      "image/png": "[encoded data removed]",
      "text/plain": [
       "<Figure size 432x288 with 1 Axes>"
      ]
     },
     "metadata": {
      "needs_background": "light"
     },
     "output_type": "display_data"
    }
   ],
   "source": [
    "#Developerların bildiği teknolojiler\n",
    "(salary_dataset.loc[:,'c / c++':'elixir'].sum()*100/salary_dataset.count()).plot.bar()"
   ]
  },
  {
   "cell_type": "code",
   "execution_count": 68,
   "metadata": {},
   "outputs": [
    {
     "data": {
      "text/plain": [
       "<matplotlib.axes._subplots.AxesSubplot at 0x1f9c0d63ef0>"
      ]
     },
     "execution_count": 68,
     "metadata": {},
     "output_type": "execute_result"
    },
    {
     "data": {
      "image/png": "[encoded data removed]",
      "text/plain": [
       "<Figure size 432x288 with 1 Axes>"
      ]
     },
     "metadata": {},
     "output_type": "display_data"
    }
   ],
   "source": [
    "#Developarların bildiği teknolojiler(TOP 5)\n",
    "salary_dataset.loc[:,'c / c++':'elixir'].sum().sort_values(ascending=False).head(5).plot.pie(autopct='%.2f')"
   ]
  },
  {
   "cell_type": "code",
   "execution_count": 69,
   "metadata": {},
   "outputs": [
    {
     "data": {
      "text/plain": [
       "43"
      ]
     },
     "execution_count": 69,
     "metadata": {},
     "output_type": "execute_result"
    }
   ],
   "source": [
    "salary_dataset.columns.size"
   ]
  },
  {
   "cell_type": "code",
   "execution_count": null,
   "metadata": {},
   "outputs": [],
   "source": []
  },
  {
   "cell_type": "markdown",
   "metadata": {},
   "source": [
    "# MODEL OLUŞTURMA"
   ]
  },
  {
   "cell_type": "code",
   "execution_count": null,
   "metadata": {},
   "outputs": [],
   "source": [
    " "
   ]
  },
  {
   "cell_type": "code",
   "execution_count": 70,
   "metadata": {},
   "outputs": [],
   "source": [
    "from sklearn.tree import DecisionTreeClassifier\n",
    "from sklearn.ensemble import RandomForestClassifier\n",
    "from sklearn import tree"
   ]
  },
  {
   "cell_type": "code",
   "execution_count": 71,
   "metadata": {},
   "outputs": [],
   "source": [
    "y = salary_dataset[\"salary\"]\n",
    "X = salary_dataset\n",
    "del X[\"salary\"]"
   ]
  },
  {
   "cell_type": "code",
   "execution_count": 72,
   "metadata": {},
   "outputs": [],
   "source": [
    "tree_model = tree.DecisionTreeClassifier(criterion='entropy')"
   ]
  },
  {
   "cell_type": "code",
   "execution_count": 73,
   "metadata": {},
   "outputs": [],
   "source": [
    "rf_model = RandomForestClassifier(criterion='entropy',n_estimators=100,random_state=42)"
   ]
  },
  {
   "cell_type": "markdown",
   "metadata": {},
   "source": [
    "# K FOLD"
   ]
  },
  {
   "cell_type": "code",
   "execution_count": 74,
   "metadata": {},
   "outputs": [],
   "source": [
    "from sklearn.model_selection import KFold\n",
    "from sklearn.model_selection import cross_val_score\n",
    "from sklearn.metrics import accuracy_score\n",
    "from sklearn.metrics import confusion_matrix\n",
    "from sklearn.preprocessing import StandardScaler\n",
    "from sklearn.metrics import classification_report, confusion_matrix, accuracy_score\n",
    "from sklearn.metrics import precision_score\n",
    "\n",
    "k_fold  = KFold(n_splits=10)\n"
   ]
  },
  {
   "cell_type": "code",
   "execution_count": 75,
   "metadata": {},
   "outputs": [],
   "source": [
    "#sc = StandardScaler()\n",
    "#X = sc.fit_transform(X)"
   ]
  },
  {
   "cell_type": "code",
   "execution_count": 76,
   "metadata": {},
   "outputs": [],
   "source": [
    "X = X.values\n",
    "y = y.values"
   ]
  },
  {
   "cell_type": "code",
   "execution_count": null,
   "metadata": {},
   "outputs": [],
   "source": []
  },
  {
   "cell_type": "markdown",
   "metadata": {},
   "source": [
    "# Decision Tree"
   ]
  },
  {
   "cell_type": "code",
   "execution_count": 77,
   "metadata": {},
   "outputs": [
    {
     "name": "stdout",
     "output_type": "stream",
     "text": [
      "[fold 0], score: 0.62857\n",
      "[fold 1], score: 0.77143\n",
      "[fold 2], score: 0.64762\n",
      "[fold 3], score: 0.61905\n",
      "[fold 4], score: 0.70476\n",
      "[fold 5], score: 0.67308\n",
      "[fold 6], score: 0.71154\n",
      "[fold 7], score: 0.68269\n",
      "[fold 8], score: 0.79808\n",
      "[fold 9], score: 0.70192\n"
     ]
    }
   ],
   "source": [
    "for k, (train, test) in enumerate(k_fold.split(X, y)):\n",
    "    tree_model.fit(X[train], y[train])\n",
    "    \n",
    "    print(\"[fold {0}], score: {2:.5f}\".format(k,_, tree_model.score(X[test], y[test])))"
   ]
  },
  {
   "cell_type": "markdown",
   "metadata": {},
   "source": [
    "# Random Forest"
   ]
  },
  {
   "cell_type": "markdown",
   "metadata": {},
   "source": [
    "# Analiz sonuçları:\n"
   ]
  },
  {
   "cell_type": "code",
   "execution_count": 78,
   "metadata": {},
   "outputs": [],
   "source": [
    "k_fold_iteration = [1,2,3,4,5,6,7,8,9,10]\n",
    "acc_scores = []\n",
    "prec_scores = []\n",
    "predict = \"\"\n",
    "y_test = \"\""
   ]
  },
  {
   "cell_type": "code",
   "execution_count": 79,
   "metadata": {},
   "outputs": [
    {
     "name": "stdout",
     "output_type": "stream",
     "text": [
      "              precision    recall  f1-score   support\n",
      "\n",
      "           0       0.77      0.84      0.81        57\n",
      "           1       0.55      0.61      0.58        36\n",
      "           2       0.33      0.08      0.13        12\n",
      "\n",
      "   micro avg       0.68      0.68      0.68       105\n",
      "   macro avg       0.55      0.51      0.51       105\n",
      "weighted avg       0.65      0.68      0.65       105\n",
      "\n",
      "              precision    recall  f1-score   support\n",
      "\n",
      "           0       0.90      0.88      0.89        75\n",
      "           1       0.62      0.75      0.68        24\n",
      "           2       0.67      0.33      0.44         6\n",
      "\n",
      "   micro avg       0.82      0.82      0.82       105\n",
      "   macro avg       0.73      0.65      0.67       105\n",
      "weighted avg       0.83      0.82      0.82       105\n",
      "\n",
      "              precision    recall  f1-score   support\n",
      "\n",
      "           0       0.83      0.90      0.86        60\n",
      "           1       0.59      0.59      0.59        34\n",
      "           2       0.50      0.27      0.35        11\n",
      "\n",
      "   micro avg       0.73      0.73      0.73       105\n",
      "   macro avg       0.64      0.59      0.60       105\n",
      "weighted avg       0.72      0.73      0.72       105\n",
      "\n",
      "              precision    recall  f1-score   support\n",
      "\n",
      "           0       0.72      0.85      0.78        55\n",
      "           1       0.58      0.53      0.55        36\n",
      "           2       0.29      0.14      0.19        14\n",
      "\n",
      "   micro avg       0.65      0.65      0.65       105\n",
      "   macro avg       0.53      0.51      0.51       105\n",
      "weighted avg       0.61      0.65      0.62       105\n",
      "\n",
      "              precision    recall  f1-score   support\n",
      "\n",
      "           0       0.90      0.90      0.90        67\n",
      "           1       0.71      0.62      0.67        32\n",
      "           2       0.20      0.33      0.25         6\n",
      "\n",
      "   micro avg       0.78      0.78      0.78       105\n",
      "   macro avg       0.60      0.62      0.60       105\n",
      "weighted avg       0.80      0.78      0.79       105\n",
      "\n",
      "              precision    recall  f1-score   support\n",
      "\n",
      "           0       0.79      0.84      0.81        68\n",
      "           1       0.59      0.55      0.57        31\n",
      "           2       0.33      0.20      0.25         5\n",
      "\n",
      "   micro avg       0.72      0.72      0.72       104\n",
      "   macro avg       0.57      0.53      0.54       104\n",
      "weighted avg       0.71      0.72      0.71       104\n",
      "\n",
      "              precision    recall  f1-score   support\n",
      "\n",
      "           0       0.91      0.81      0.85        72\n",
      "           1       0.40      0.78      0.53        18\n",
      "           2       0.80      0.29      0.42        14\n",
      "\n",
      "   micro avg       0.73      0.73      0.73       104\n",
      "   macro avg       0.70      0.62      0.60       104\n",
      "weighted avg       0.80      0.73      0.74       104\n",
      "\n",
      "              precision    recall  f1-score   support\n",
      "\n",
      "           0       0.88      0.92      0.90        72\n",
      "           1       0.50      0.50      0.50        22\n",
      "           2       0.43      0.30      0.35        10\n",
      "\n",
      "   micro avg       0.77      0.77      0.77       104\n",
      "   macro avg       0.60      0.57      0.58       104\n",
      "weighted avg       0.76      0.77      0.76       104\n",
      "\n",
      "              precision    recall  f1-score   support\n",
      "\n",
      "           0       0.93      0.92      0.93        74\n",
      "           1       0.62      0.73      0.67        22\n",
      "           2       0.60      0.38      0.46         8\n",
      "\n",
      "   micro avg       0.84      0.84      0.84       104\n",
      "   macro avg       0.72      0.67      0.68       104\n",
      "weighted avg       0.84      0.84      0.83       104\n",
      "\n",
      "              precision    recall  f1-score   support\n",
      "\n",
      "           0       0.83      0.87      0.85        63\n",
      "           1       0.66      0.64      0.65        33\n",
      "           2       0.50      0.38      0.43         8\n",
      "\n",
      "   micro avg       0.76      0.76      0.76       104\n",
      "   macro avg       0.66      0.63      0.64       104\n",
      "weighted avg       0.75      0.76      0.75       104\n",
      "\n"
     ]
    }
   ],
   "source": [
    "for k, (train, test) in enumerate(k_fold.split(X, y)):\n",
    "    rf_model.fit(X[train], y[train])\n",
    "    result = rf_model.predict(X[test])\n",
    "    \n",
    "    acc_score = accuracy_score(y[test],result)\n",
    "    #prec_score = precision_score(y[test],result,average='weighted', labels=np.unique(result))\n",
    "    \n",
    "    #print(\"[fold {0}], acc_score: {2:.5f}, prec_score: {2:.5f}\".format(k,_, acc_score,prec_score))\n",
    "    acc_scores.append(acc_score)\n",
    "    print(classification_report(y[test], result))\n",
    "    prec_scores.append(precision_score(y[test], result,average='weighted'))\n",
    "    predict = result\n",
    "    y_test = y[test]"
   ]
  },
  {
   "cell_type": "code",
   "execution_count": 80,
   "metadata": {},
   "outputs": [
    {
     "data": {
      "text/plain": [
       "Text(0, 0.5, 'Cross-validated accuracy')"
      ]
     },
     "execution_count": 80,
     "metadata": {},
     "output_type": "execute_result"
    },
    {
     "data": {
      "image/png": "[encoded data removed]",
      "text/plain": [
       "<Figure size 432x288 with 1 Axes>"
      ]
     },
     "metadata": {
      "needs_background": "light"
     },
     "output_type": "display_data"
    }
   ],
   "source": [
    "plt.plot(k_fold_iteration, acc_scores)\n",
    "plt.xlabel('Value of K for Random forest')\n",
    "plt.ylabel('Cross-validated accuracy')"
   ]
  },
  {
   "cell_type": "code",
   "execution_count": 81,
   "metadata": {},
   "outputs": [
    {
     "data": {
      "text/plain": [
       "Text(0, 0.5, 'Cross-validated precision')"
      ]
     },
     "execution_count": 81,
     "metadata": {},
     "output_type": "execute_result"
    },
    {
     "data": {
      "image/png": "[encoded data removed]",
      "text/plain": [
       "<Figure size 432x288 with 1 Axes>"
      ]
     },
     "metadata": {
      "needs_background": "light"
     },
     "output_type": "display_data"
    }
   ],
   "source": [
    "plt.plot(k_fold_iteration, prec_scores)\n",
    "plt.xlabel('Value of K for Random forest')\n",
    "plt.ylabel('Cross-validated precision')"
   ]
  },
  {
   "cell_type": "code",
   "execution_count": 82,
   "metadata": {},
   "outputs": [
    {
     "data": {
      "text/plain": [
       "<matplotlib.axes._subplots.AxesSubplot at 0x1f9c0f10c18>"
      ]
     },
     "execution_count": 82,
     "metadata": {},
     "output_type": "execute_result"
    },
    {
     "data": {
      "image/png": "[encoded data removed]",
      "text/plain": [
       "<Figure size 432x288 with 1 Axes>"
      ]
     },
     "metadata": {
      "needs_background": "light"
     },
     "output_type": "display_data"
    }
   ],
   "source": [
    "#En önemli 3 feature\n",
    "importance = rf_model.feature_importances_\n",
    "col = salary_dataset.columns\n",
    "importance_frame = pd.DataFrame(data=importance.reshape(1,42),columns=col)\n",
    "importance_frame.sort_values(axis=1,by=0,ascending=False).iloc[0,0:3].plot.bar()\n",
    "\n"
   ]
  },
  {
   "cell_type": "code",
   "execution_count": 83,
   "metadata": {
    "scrolled": true
   },
   "outputs": [
    {
     "data": {
      "text/plain": [
       "array([[55,  8,  0],\n",
       "       [ 9, 21,  3],\n",
       "       [ 2,  3,  3]], dtype=int64)"
      ]
     },
     "execution_count": 83,
     "metadata": {},
     "output_type": "execute_result"
    }
   ],
   "source": [
    "cm = confusion_matrix(y_test,predict)\n",
    "cm"
   ]
  },
  {
   "cell_type": "code",
   "execution_count": 84,
   "metadata": {},
   "outputs": [],
   "source": [
    "def plot_confusion_matrix(y_true, y_pred,\n",
    "                          normalize=False,\n",
    "                          title=None,\n",
    "                          cmap=plt.cm.Blues):\n",
    "    \"\"\"\n",
    "    This function prints and plots the confusion matrix.\n",
    "    Normalization can be applied by setting `normalize=True`.\n",
    "    \"\"\"\n",
    "    if not title:\n",
    "        if normalize:\n",
    "            title = 'Normalized confusion matrix'\n",
    "        else:\n",
    "            title = 'Confusion matrix, without normalization'\n",
    "\n",
    "    # Compute confusion matrix\n",
    "    cm = confusion_matrix(y_true, y_pred)\n",
    "    # Only use the labels that appear in the data\n",
    "    if normalize:\n",
    "        cm = cm.astype('float') / cm.sum(axis=1)[:, np.newaxis]\n",
    "        print(\"Normalized confusion matrix\")\n",
    "    else:\n",
    "        print('Confusion matrix, without normalization')\n",
    "\n",
    "    print(cm)\n",
    "\n",
    "    fig, ax = plt.subplots()\n",
    "    im = ax.imshow(cm, interpolation='nearest', cmap=cmap)\n",
    "    ax.figure.colorbar(im, ax=ax)\n",
    "    # We want to show all ticks...\n",
    "    ax.set(xticks=np.arange(cm.shape[1]),\n",
    "           yticks=np.arange(cm.shape[0]),\n",
    "           # ... and label them with the respective list entries\n",
    "        \n",
    "           title=title,\n",
    "           ylabel='True label',\n",
    "           xlabel='Predicted label')\n",
    "\n",
    "    # Rotate the tick labels and set their alignment.\n",
    "    plt.setp(ax.get_xticklabels(), rotation=45, ha=\"right\",\n",
    "             rotation_mode=\"anchor\")\n",
    "\n",
    "    # Loop over data dimensions and create text annotations.\n",
    "    fmt = '.2f' if normalize else 'd'\n",
    "    thresh = cm.max() / 2.\n",
    "    for i in range(cm.shape[0]):\n",
    "        for j in range(cm.shape[1]):\n",
    "            ax.text(j, i, format(cm[i, j], fmt),\n",
    "                    ha=\"center\", va=\"center\",\n",
    "                    color=\"white\" if cm[i, j] > thresh else \"black\")\n",
    "    fig.tight_layout()\n",
    "    return ax"
   ]
  },
  {
   "cell_type": "code",
   "execution_count": 85,
   "metadata": {},
   "outputs": [
    {
     "name": "stdout",
     "output_type": "stream",
     "text": [
      "Normalized confusion matrix\n",
      "[[0.87301587 0.12698413 0.        ]\n",
      " [0.27272727 0.63636364 0.09090909]\n",
      " [0.25       0.375      0.375     ]]\n"
     ]
    },
    {
     "data": {
      "text/plain": [
       "<matplotlib.axes._subplots.AxesSubplot at 0x1f9c2008940>"
      ]
     },
     "execution_count": 85,
     "metadata": {},
     "output_type": "execute_result"
    },
    {
     "data": {
      "image/png": "[encoded data removed]",
      "text/plain": [
       "<Figure size 432x288 with 2 Axes>"
      ]
     },
     "metadata": {
      "needs_background": "light"
     },
     "output_type": "display_data"
    }
   ],
   "source": [
    "plot_confusion_matrix(y_test, predict, normalize=True,\n",
    "                      title='Normalized confusion matrix')"
   ]
  },
  {
   "cell_type": "markdown",
   "metadata": {
    "slideshow": {
     "slide_type": "-"
    }
   },
   "source": [
    "# İş Bölümü:\n",
    "Farklı bölüm ve sorumlulukların hangi grup üyeleri tarafından yapıldığını belirtiniz."
   ]
  },
  {
   "cell_type": "code",
   "execution_count": 86,
   "metadata": {},
   "outputs": [],
   "source": [
    "result2 = rf_model.predict(X)"
   ]
  },
  {
   "cell_type": "code",
   "execution_count": 87,
   "metadata": {},
   "outputs": [
    {
     "data": {
      "text/plain": [
       "0.9425837320574163"
      ]
     },
     "execution_count": 87,
     "metadata": {},
     "output_type": "execute_result"
    }
   ],
   "source": [
    "rf_model.score(X,y)"
   ]
  },
  {
   "cell_type": "code",
   "execution_count": 88,
   "metadata": {},
   "outputs": [
    {
     "name": "stdout",
     "output_type": "stream",
     "text": [
      "Normalized confusion matrix\n",
      "[[0.87301587 0.12698413 0.        ]\n",
      " [0.27272727 0.63636364 0.09090909]\n",
      " [0.25       0.375      0.375     ]]\n"
     ]
    },
    {
     "data": {
      "text/plain": [
       "<matplotlib.axes._subplots.AxesSubplot at 0x1f9c0e6a908>"
      ]
     },
     "execution_count": 88,
     "metadata": {},
     "output_type": "execute_result"
    },
    {
     "data": {
      "image/png": "[encoded data removed]",
      "text/plain": [
       "<Figure size 432x288 with 2 Axes>"
      ]
     },
     "metadata": {
      "needs_background": "light"
     },
     "output_type": "display_data"
    }
   ],
   "source": [
    "plot_confusion_matrix(y_test, predict, normalize=True,\n",
    "                      title='Normalized confusion matrix')"
   ]
  }
 ],
 "metadata": {
  "kernelspec": {
   "display_name": "Python 3",
   "language": "python",
   "name": "python3"
  },
  "language_info": {
   "codemirror_mode": {
    "name": "ipython",
    "version": 3
   },
   "file_extension": ".py",
   "mimetype": "text/x-python",
   "name": "python",
   "nbconvert_exporter": "python",
   "pygments_lexer": "ipython3",
   "version": "3.7.1"
  }
 },
 "nbformat": 4,
 "nbformat_minor": 2
}
